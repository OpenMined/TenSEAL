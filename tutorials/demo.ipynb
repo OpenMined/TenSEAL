{
 "cells": [
  {
   "cell_type": "markdown",
   "metadata": {},
   "source": [
    "# <img src=\"https://github.com/OpenMined/design-assets/raw/master/logos/OM/mark-primary-trans.png\" align=\"center\" style=\"width: 100px;\"/> TenSEAL Demo\n",
    "\n",
    "Welcome to this tutorial, where we will show the core functionality of TenSEAL and some use cases.\n",
    "\n",
    "If you find it interesting, check out the other tutorials as well:\n",
    "- ['Tutorial 0 - Getting Started'](./Tutorial%200%20-%20Getting%20Started.ipynb).\n",
    "- ['Tutorial 1: Training and Evaluation of Logistic Regression on Encrypted Data'](./tutorials/Tutorial%201%20-%20Training%20and%20Evaluation%20of%20Logistic%20Regression%20on%20Encrypted%20Data.ipynb).\n"
   ]
  },
  {
   "cell_type": "markdown",
   "metadata": {},
   "source": [
    "## Setup\n",
    "\n",
    "All modules are imported here. Make sure everything is installed by running the cell below."
   ]
  },
  {
   "cell_type": "code",
   "execution_count": 22,
   "metadata": {},
   "outputs": [],
   "source": [
    "import torch\n",
    "from torchvision import transforms\n",
    "from random import randint\n",
    "import pickle\n",
    "from PIL import Image\n",
    "import numpy as np\n",
    "from matplotlib.pyplot import imshow\n",
    "from typing import Dict\n",
    "\n",
    "import tenseal as ts"
   ]
  },
  {
   "cell_type": "markdown",
   "metadata": {},
   "source": [
    "## TenSEAL Context\n",
    "\n",
    "TenSEAL context is the central component of the library.  It stores the keys and states required by an encrypted computation."
   ]
  },
  {
   "cell_type": "code",
   "execution_count": 23,
   "metadata": {},
   "outputs": [],
   "source": [
    "def context():\n",
    "    context = ts.context(ts.SCHEME_TYPE.CKKS, 8192, coeff_mod_bit_sizes=[60, 40, 40, 60])\n",
    "    context.global_scale = pow(2, 40)\n",
    "    context.generate_galois_keys()\n",
    "    return context\n",
    "\n",
    "context = context()"
   ]
  },
  {
   "cell_type": "markdown",
   "metadata": {},
   "source": [
    "### Plain tensor creation\n",
    "\n",
    "PlainTensor class works as a translation layer from common tensor representations to the encrypted forms offered by TenSEAL.\n",
    "\n",
    "<img src=\"assets/plaintensor_indepth.png\" align=\"center\" style=\"display: block;  margin: auto;\" />\n"
   ]
  },
  {
   "cell_type": "code",
   "execution_count": 24,
   "metadata": {},
   "outputs": [
    {
     "name": "stdout",
     "output_type": "stream",
     "text": [
      " First tensor: Shape = [2, 2] Data = [[1.0, 2.0], [3.0, 4.0]]\n",
      " Second tensor: Shape = [2, 2] Data = [[5.0, 6.0], [7.0, 8.0]]\n"
     ]
    }
   ],
   "source": [
    "plain1 = ts.plain_tensor([1,2,3,4], [2,2])\n",
    "plain1_list = ts.tolist(plain1)\n",
    "print(\" First tensor: Shape = {} Data = {}\".format(plain1.shape(), plain1_list))\n",
    "\n",
    "plain2 = ts.plain_tensor(np.array([5,6,7,8]).reshape(2,2))\n",
    "plain2_list = ts.tolist(plain2)\n",
    "print(\" Second tensor: Shape = {} Data = {}\".format(plain2.shape(), plain2_list))"
   ]
  },
  {
   "cell_type": "markdown",
   "metadata": {},
   "source": [
    "### Encrypted tensor creation\n",
    "\n",
    "The encrypted tensor encrypts a PlainTensor and stores the ciphertexts and shapes internally.\n",
    "\n",
    "We have a few variants of encrypted tensors:\n",
    " - **BFVVector** - for 1d integer arrays.\n",
    " - **CKKSVector** - for 1d float arrays.\n",
    " - **CKKSTensor** - for n-dimensional float arrays.\n",
    " \n",
    " \n",
    "<img src=\"assets/encrypted_tensor_relation.png\" align=\"center\" style=\"display: block;  margin: auto;\" />"
   ]
  },
  {
   "cell_type": "code",
   "execution_count": 25,
   "metadata": {},
   "outputs": [
    {
     "name": "stdout",
     "output_type": "stream",
     "text": [
      " Shape = [2, 2]\n",
      " Encrypted Data = [<_tenseal_cpp.Ciphertext object at 0x7fc2d0b9ef30>, <_tenseal_cpp.Ciphertext object at 0x7fc2b81ab330>, <_tenseal_cpp.Ciphertext object at 0x7fc2b81ab2b0>, <_tenseal_cpp.Ciphertext object at 0x7fc2b8100a30>].\n"
     ]
    }
   ],
   "source": [
    "encrypted_tensor1 = ts.ckks_tensor(context, plain1)\n",
    "encrypted_tensor2 = ts.ckks_tensor(context, plain2)\n",
    "\n",
    "print(\" Shape = {}\".format(encrypted_tensor1.shape()))\n",
    "print(\" Encrypted Data = {}.\".format(encrypted_tensor1.data()))"
   ]
  },
  {
   "cell_type": "markdown",
   "metadata": {},
   "source": [
    "## Basic operations\n",
    "\n",
    "\n",
    "| Operation                    | Description                                                   |\n",
    "| --- | --- |\n",
    "| negate                       | Negate an encrypted tensor                                    |\n",
    "| square                       | Compute the square of an encrypted tensor                     |\n",
    "| power                        | Compute the power of an encrypted tensor                      |\n",
    "| add                          | Addition between two encrypted tensors                        |\n",
    "| add\\_plain                   | Addition between an encrypted tensor and a plain tensor       |\n",
    "| sub                          | Subtraction between two encrypted tensors                     |\n",
    "| sub\\_plain                   | Subtraction between an encrypted tensor and a plain tensor    |\n",
    "| mul                          | Multiplication between two encrypted tensors                  |\n",
    "| mul\\_plain                   | Multiplication between an encrypted tensor and a plain tensor |\n",
    "| dot\\_product                 | Dot product between two encrypted tensors                     |\n",
    "| dot\\_product\\_plain          | Dot product between an encrypted tensor and a plain tensor    |\n",
    "| polyval                      | Polynomial evaluation with an encrypted tensor as variable    |\n",
    "| matmul\\_plain                | Multiplication between an encrypted tensor and a plain matrix |\n",
    "| enc\\_matmul\\_plain           | Encrypted matrix multiplication with plain vector             |\n",
    "| diagonal\\_ct\\_vector\\_matmul | Encrypted\\_vector-plain\\_matrix multiplication                |\n",
    "| conv2d\\_im2col               | Image Block to Columns                                        |\n"
   ]
  },
  {
   "cell_type": "code",
   "execution_count": 26,
   "metadata": {},
   "outputs": [],
   "source": [
    "def decrypt(enc):\n",
    "    return ts.tolist(enc.decrypt())"
   ]
  },
  {
   "cell_type": "markdown",
   "metadata": {},
   "source": [
    "### Addition"
   ]
  },
  {
   "cell_type": "code",
   "execution_count": 27,
   "metadata": {},
   "outputs": [
    {
     "name": "stdout",
     "output_type": "stream",
     "text": [
      "Plain equivalent: [[1.0, 2.0], [3.0, 4.0]] + [[5.0, 6.0], [7.0, 8.0]]\n",
      "Decrypted result: [[6.000000001855973, 8.00000000143946], [9.999999997679993, 11.999999999707008]].\n"
     ]
    }
   ],
   "source": [
    "result = encrypted_tensor1 + encrypted_tensor2\n",
    "print(\"Plain equivalent: {} + {}\\nDecrypted result: {}.\".format(plain1_list, plain2_list, decrypt(result)))"
   ]
  },
  {
   "cell_type": "markdown",
   "metadata": {},
   "source": [
    "### Subtraction"
   ]
  },
  {
   "cell_type": "code",
   "execution_count": 28,
   "metadata": {},
   "outputs": [
    {
     "name": "stdout",
     "output_type": "stream",
     "text": [
      "Plain equivalent: [[1.0, 2.0], [3.0, 4.0]] - [[5.0, 6.0], [7.0, 8.0]]\n",
      "Decrypted result: [[-4.000000002630285, -3.999999998395695], [-4.000000001431845, -4.000000002010512]].\n"
     ]
    }
   ],
   "source": [
    "result = encrypted_tensor1 - encrypted_tensor2\n",
    "print(\"Plain equivalent: {} - {}\\nDecrypted result: {}.\".format(plain1_list, plain2_list, decrypt(result)))"
   ]
  },
  {
   "cell_type": "markdown",
   "metadata": {},
   "source": [
    "### Multiplication"
   ]
  },
  {
   "cell_type": "code",
   "execution_count": 29,
   "metadata": {},
   "outputs": [
    {
     "name": "stdout",
     "output_type": "stream",
     "text": [
      "Plain equivalent: [[1.0, 2.0], [3.0, 4.0]] * [[5.0, 6.0], [7.0, 8.0]]\n",
      "Decrypted result: [[5.000000669194563, 12.000001620396109], [21.00000280090447, 32.000004283904886]].\n"
     ]
    }
   ],
   "source": [
    "result = encrypted_tensor1 * encrypted_tensor2\n",
    "print(\"Plain equivalent: {} * {}\\nDecrypted result: {}.\".format(plain1_list, plain2_list, decrypt(result)))"
   ]
  },
  {
   "cell_type": "markdown",
   "metadata": {},
   "source": [
    "### Multiplication with plain tensor"
   ]
  },
  {
   "cell_type": "code",
   "execution_count": 30,
   "metadata": {},
   "outputs": [
    {
     "name": "stdout",
     "output_type": "stream",
     "text": [
      "Plain equivalent: [[1.0, 2.0], [3.0, 4.0]] * [[5.0, 6.0], [7.0, 8.0]]\n",
      "Decrypted result: [[5.000000668411275, 12.00000161878526], [21.000002803110746, 32.00000428367966]].\n"
     ]
    }
   ],
   "source": [
    "plain = ts.plain_tensor([5,6,7,8], [2,2])\n",
    "result = encrypted_tensor1 * plain\n",
    "\n",
    "print(\"Plain equivalent: {} * {}\\nDecrypted result: {}.\".format(plain1_list, ts.tolist(plain), decrypt(result)))"
   ]
  },
  {
   "cell_type": "markdown",
   "metadata": {},
   "source": [
    "### Negation"
   ]
  },
  {
   "cell_type": "code",
   "execution_count": 31,
   "metadata": {},
   "outputs": [
    {
     "name": "stdout",
     "output_type": "stream",
     "text": [
      "Plain equivalent: -[[1.0, 2.0], [3.0, 4.0]]\n",
      "Decrypted result: [[-0.9999999996128438, -2.000000001521883], [-2.999999998124074, -3.9999999988482493]].\n"
     ]
    }
   ],
   "source": [
    "result = -encrypted_tensor1 \n",
    "\n",
    "print(\"Plain equivalent: -{}\\nDecrypted result: {}.\".format(plain1_list, decrypt(result)))"
   ]
  },
  {
   "cell_type": "markdown",
   "metadata": {},
   "source": [
    "### Power"
   ]
  },
  {
   "cell_type": "code",
   "execution_count": 32,
   "metadata": {},
   "outputs": [
    {
     "name": "stdout",
     "output_type": "stream",
     "text": [
      "Plain equivalent: [[1.0, 2.0], [3.0, 4.0]] ^ 3\n",
      "Decrypted result: [[1.0000008063944623, 8.000006457560826], [27.000021676463525, 64.00005144940928]].\n"
     ]
    }
   ],
   "source": [
    "result = encrypted_tensor1 ** 3\n",
    "print(\"Plain equivalent: {} ^ 3\\nDecrypted result: {}.\".format(plain1_list, decrypt(result)))"
   ]
  },
  {
   "cell_type": "markdown",
   "metadata": {},
   "source": [
    "### Polynomial evaluation $1 + X^2 + X^3$"
   ]
  },
  {
   "cell_type": "code",
   "execution_count": 33,
   "metadata": {},
   "outputs": [
    {
     "name": "stdout",
     "output_type": "stream",
     "text": [
      "X = [[1.0, 2.0], [3.0, 4.0]]\n",
      "1 + X^2 + X^3 = [[3.0000009395539546, 13.0000069993274], [37.00002287164219, 81.00005358552158]].\n"
     ]
    }
   ],
   "source": [
    "result = encrypted_tensor1.polyval([1,0,1,1])\n",
    "\n",
    "print(\"X = {}\".format(plain1_list))\n",
    "print(\"1 + X^2 + X^3 = {}.\".format(decrypt(result)))"
   ]
  },
  {
   "cell_type": "markdown",
   "metadata": {},
   "source": [
    "### Sigmoid approximation\n",
    "$\\sigma(x) = 0.5 + 0.197 x - 0.004 x^3$\n",
    "\n",
    "Reference: [\"Logistic regression over encrypted data from fully homomorphic encryption\", Hao Chen et al](https://eprint.iacr.org/2018/462.pdf)"
   ]
  },
  {
   "cell_type": "code",
   "execution_count": 34,
   "metadata": {},
   "outputs": [
    {
     "name": "stdout",
     "output_type": "stream",
     "text": [
      "X = [[1.0, 2.0], [3.0, 4.0]]\n",
      "0.5 + 0.197 X - 0.004 x^X = [[0.693000019289264, 0.8620000235410646], [0.9829999925523127, 1.0319998410395388]].\n"
     ]
    }
   ],
   "source": [
    "result = encrypted_tensor1.polyval([0.5, 0.197, 0, -0.004])\n",
    "\n",
    "\n",
    "print(\"X = {}\".format(plain1_list))\n",
    "print(\"0.5 + 0.197 X - 0.004 x^X = {}.\".format(decrypt(result)))\n"
   ]
  },
  {
   "cell_type": "code",
   "execution_count": null,
   "metadata": {},
   "outputs": [],
   "source": []
  },
  {
   "cell_type": "markdown",
   "metadata": {},
   "source": [
    "# Encrypted inference demo\n",
    "\n",
    "The next example contains a classification over the MNIST dataset using a single convolution and two fully connected layers with a square activation function.\n",
    "\n",
    "It illustrates one of the prominent use cases for homomorphic encryption, as depicted here.\n",
    "\n",
    "<img src=\"https://blog.openmined.org/content/images/2020/04/OM---CKKS-Graphic-v.01@2x.png\" align=\"center\" style=\"display: block;  margin: auto;\"/>\n",
    "\n",
    "\n",
    "Adapted from https://github.com/youben11/encrypted-evaluation"
   ]
  },
  {
   "cell_type": "markdown",
   "metadata": {},
   "source": [
    "## Client Helpers"
   ]
  },
  {
   "cell_type": "code",
   "execution_count": 35,
   "metadata": {},
   "outputs": [],
   "source": [
    "# Create the TenSEAL security context\n",
    "def create_ctx():\n",
    "    poly_mod_degree = 8192\n",
    "    coeff_mod_bit_sizes = [40, 21, 21, 21, 21, 21, 21, 40]\n",
    "    ctx = ts.context(ts.SCHEME_TYPE.CKKS, poly_mod_degree, -1, coeff_mod_bit_sizes)\n",
    "    ctx.global_scale = 2 ** 21\n",
    "    ctx.generate_galois_keys()\n",
    "    return ctx\n",
    "\n",
    "# Sample an image\n",
    "def load_input():\n",
    "    transform = transforms.Compose(\n",
    "        [transforms.ToTensor(), transforms.Normalize((0.1307,), (0.3081,))]\n",
    "    )\n",
    "    idx = randint(1, 39)\n",
    "    img_name = \"samples/img_{}.jpg\".format(idx)\n",
    "    img = Image.open(img_name)\n",
    "    return transform(img).view(28, 28).tolist(), img\n",
    "\n",
    "# Encode the image\n",
    "def prepare_input(ctx, plain_input):\n",
    "    enc_input, windows_nb = ts.im2col_encoding(ctx, plain_input, 7, 7, 3)\n",
    "    assert windows_nb == 64\n",
    "    return enc_input"
   ]
  },
  {
   "cell_type": "markdown",
   "metadata": {},
   "source": [
    "## Server Model\n",
    "\n",
    " - We have a pretrained plain model.\n",
    " - We adapt the forward call for encrypted inputs."
   ]
  },
  {
   "cell_type": "code",
   "execution_count": 36,
   "metadata": {},
   "outputs": [],
   "source": [
    "# Load a pretrained model and adapt the forward call for encrypted input\n",
    "class ConvMNIST():\n",
    "    \"\"\"CNN for classifying MNIST data.\n",
    "    Input should be an encoded 28x28 matrix representing the image.\n",
    "    TenSEAL can be used for encoding `tenseal.im2col_encoding(ctx, input_matrix, 7, 7, 3)`\n",
    "    The input should also be normalized with a mean=0.1307 and an std=0.3081 before encryption.\n",
    "    \"\"\"\n",
    "\n",
    "    def __init__(self, parameters: Dict[str, list]):\n",
    "        self.conv1_weight = parameters[\"conv1_weight\"]\n",
    "        self.conv1_bias = parameters[\"conv1_bias\"]\n",
    "        self.fc1_weight = parameters[\"fc1_weight\"]\n",
    "        self.fc1_bias = parameters[\"fc1_bias\"]\n",
    "        self.fc2_weight = parameters[\"fc2_weight\"]\n",
    "        self.fc2_bias = parameters[\"fc2_bias\"]\n",
    "        self.windows_nb = parameters[\"windows_nb\"]\n",
    "\n",
    "    def forward(self, enc_x: ts.CKKSVector) -> ts.CKKSVector:\n",
    "        # conv layer\n",
    "        channels = []\n",
    "        for kernel, bias in zip(self.conv1_weight, self.conv1_bias):\n",
    "            y = enc_x.conv2d_im2col(kernel, self.windows_nb) + bias\n",
    "            channels.append(y)\n",
    "        out = ts.CKKSVector.pack_vectors(channels)\n",
    "        # squaring\n",
    "        out.square_()\n",
    "        # no need to flat\n",
    "        # fc1 layer\n",
    "        out.mm_(self.fc1_weight).add_plain_(self.fc1_bias)\n",
    "        # squaring\n",
    "        out.square_()\n",
    "        # output layer\n",
    "        out.mm_(self.fc2_weight).add_plain_(self.fc2_bias)\n",
    "        return out\n",
    "\n",
    "    @staticmethod\n",
    "    def prepare_input(context: bytes, ckks_vector: bytes) -> ts.CKKSVector:\n",
    "        try:\n",
    "            ctx = ts.context_from(context)\n",
    "            enc_x = ts.ckks_vector_from(ctx, ckks_vector)\n",
    "        except:\n",
    "            raise DeserializationError(\"cannot deserialize context or ckks_vector\")\n",
    "        try:\n",
    "            _ = ctx.galois_keys()\n",
    "        except:\n",
    "            raise InvalidContext(\"the context doesn't hold galois keys\")\n",
    "\n",
    "        return enc_x\n",
    "    def __call__(self, *args, **kwargs):\n",
    "        return self.forward(*args, **kwargs)"
   ]
  },
  {
   "cell_type": "markdown",
   "metadata": {},
   "source": [
    "## Server helpers"
   ]
  },
  {
   "cell_type": "code",
   "execution_count": 37,
   "metadata": {},
   "outputs": [
    {
     "name": "stdout",
     "output_type": "stream",
     "text": [
      "Model loaded from 'parameters/ConvMNIST-0.1.pickle'\n"
     ]
    }
   ],
   "source": [
    "import pickle\n",
    "import os\n",
    "\n",
    "def load_parameters(file_path: str) -> dict:\n",
    "    try:\n",
    "        parameters = pickle.load(open(file_path, \"rb\"))\n",
    "        print(f\"Model loaded from '{file_path}'\")\n",
    "    except OSError as ose:\n",
    "        print(\"error\", ose)\n",
    "        raise ose\n",
    "    return parameters\n",
    "\n",
    "\n",
    "\n",
    "parameters = load_parameters(\"parameters/ConvMNIST-0.1.pickle\")\n",
    "model = ConvMNIST(parameters)"
   ]
  },
  {
   "cell_type": "markdown",
   "metadata": {},
   "source": [
    "## Client Query\n",
    "\n",
    "**Steps**:\n",
    " - Context creation(only for the first query).\n",
    " - Image sampling and encryption.\n",
    " - Image and context serialization using **Protobuffers**."
   ]
  },
  {
   "cell_type": "code",
   "execution_count": 38,
   "metadata": {},
   "outputs": [
    {
     "name": "stdout",
     "output_type": "stream",
     "text": [
      "Encrypted image  <_tenseal_cpp.CKKSVector object at 0x7fc349ed61b0>\n",
      "Original image \n"
     ]
    },
    {
     "data": {
      "image/png": "[encoded data removed]",
      "text/plain": [
       "<Figure size 432x288 with 1 Axes>"
      ]
     },
     "metadata": {
      "needs_background": "light"
     },
     "output_type": "display_data"
    }
   ],
   "source": [
    "context = create_ctx()\n",
    "image, orig = load_input()\n",
    "    \n",
    "encrypted_image = prepare_input(context, image)\n",
    "\n",
    "print(\"Encrypted image \", encrypted_image)\n",
    "print(\"Original image \")\n",
    "imshow(np.asarray(orig))\n",
    "\n",
    "server_context = context.serialize()\n",
    "encrypted_image = encrypted_image.serialize()\n",
    "\n",
    "\n",
    "client_query = {\n",
    "    \"data\" : encrypted_image,\n",
    "    \"context\" : server_context,\n",
    "}"
   ]
  },
  {
   "cell_type": "markdown",
   "metadata": {},
   "source": [
    "## Server inference\n",
    "\n",
    "**Steps**:\n",
    " - Deserialize the context and the encrypted image.\n",
    " - Run the inference.\n",
    " - Serialize and return the result."
   ]
  },
  {
   "cell_type": "code",
   "execution_count": 39,
   "metadata": {},
   "outputs": [],
   "source": [
    "encrypted_query = model.prepare_input(client_query[\"context\"], client_query[\"data\"])\n",
    "encrypted_result = model(encrypted_query).serialize()\n",
    "\n",
    "server_response = {\n",
    "    \"data\" : encrypted_result\n",
    "}\n"
   ]
  },
  {
   "cell_type": "markdown",
   "metadata": {},
   "source": [
    "## Client process response\n",
    "\n",
    "Steps:\n",
    " - Deserialize the response.\n",
    " - Decrypt the response.\n",
    " - Apply a softmax and return the label."
   ]
  },
  {
   "cell_type": "code",
   "execution_count": 40,
   "metadata": {},
   "outputs": [
    {
     "name": "stdout",
     "output_type": "stream",
     "text": [
      "Maximum probability for label 3\n"
     ]
    }
   ],
   "source": [
    "result = ts.ckks_vector_from(context, server_response[\"data\"]).decrypt()\n",
    "\n",
    "probs = torch.softmax(torch.tensor(result), 0)\n",
    "label_max = torch.argmax(probs)\n",
    "print(\"Maximum probability for label {}\".format(label_max))\n"
   ]
  }
 ],
 "metadata": {
  "kernelspec": {
   "display_name": "Python 3",
   "language": "python",
   "name": "python3"
  },
  "language_info": {
   "codemirror_mode": {
    "name": "ipython",
    "version": 3
   },
   "file_extension": ".py",
   "mimetype": "text/x-python",
   "name": "python",
   "nbconvert_exporter": "python",
   "pygments_lexer": "ipython3",
   "version": "3.8.0"
  }
 },
 "nbformat": 4,
 "nbformat_minor": 4
}
